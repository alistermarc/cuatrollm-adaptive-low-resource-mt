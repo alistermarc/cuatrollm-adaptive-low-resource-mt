{
 "cells": [
  {
   "cell_type": "markdown",
   "metadata": {},
   "source": [
    "# Store only 10,000 items"
   ]
  },
  {
   "cell_type": "code",
   "execution_count": 1,
   "metadata": {},
   "outputs": [
    {
     "name": "stdout",
     "output_type": "stream",
     "text": [
      "42864\n"
     ]
    }
   ],
   "source": [
    "import pandas as pd\n",
    "\n",
    "# Store items in Filipino-English DF\n",
    "\n",
    "# Filipino lines\n",
    "with open('en-fil.txt/QED.en-fil.fil', 'r') as file:\n",
    "    fil_lines = file.readlines()\n",
    "\n",
    "# English lines\n",
    "with open('en-fil.txt/QED.en-fil.en', 'r') as file:\n",
    "    en_lines = file.readlines()\n",
    "\n",
    "combined_items = list(zip(en_lines, fil_lines))\n",
    "df = pd.DataFrame(combined_items, columns=['English', 'Filipino'])\n",
    "print(len(df))"
   ]
  },
  {
   "cell_type": "code",
   "execution_count": 2,
   "metadata": {},
   "outputs": [
    {
     "name": "stdout",
     "output_type": "stream",
     "text": [
      "10000\n"
     ]
    }
   ],
   "source": [
    "# Sample 10,000 items\n",
    "\n",
    "reduced_df = df.sample(n=10_000)\n",
    "print(len(reduced_df))"
   ]
  },
  {
   "cell_type": "code",
   "execution_count": 5,
   "metadata": {},
   "outputs": [],
   "source": [
    "en_text = list(reduced_df['English'])\n",
    "fil_text = list(reduced_df['Filipino'])\n",
    "\n",
    "with open('./en-fil.txt/QED-en-reduced.txt', 'w') as file:\n",
    "    for l in en_text:\n",
    "        file.write(l)\n",
    "\n",
    "with open('./en-fil.txt/QED-fil-reduced.txt', 'w') as file:\n",
    "    for l in fil_text:\n",
    "        file.write(l)"
   ]
  }
 ],
 "metadata": {
  "kernelspec": {
   "display_name": "ai351",
   "language": "python",
   "name": "python3"
  },
  "language_info": {
   "codemirror_mode": {
    "name": "ipython",
    "version": 3
   },
   "file_extension": ".py",
   "mimetype": "text/x-python",
   "name": "python",
   "nbconvert_exporter": "python",
   "pygments_lexer": "ipython3",
   "version": "3.10.16"
  }
 },
 "nbformat": 4,
 "nbformat_minor": 2
}
