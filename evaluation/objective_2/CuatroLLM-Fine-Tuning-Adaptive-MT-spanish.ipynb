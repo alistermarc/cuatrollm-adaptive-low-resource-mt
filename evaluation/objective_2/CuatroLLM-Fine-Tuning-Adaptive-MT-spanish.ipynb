{
 "cells": [
  {
   "cell_type": "markdown",
   "metadata": {
    "colab_type": "text",
    "id": "view-in-github"
   },
   "source": [
    "<a href=\"https://colab.research.google.com/github/ymoslem/Adaptive-MT-LLM-Fine-tuning/blob/main/Mistral-Fine-Tuning-Adaptive-MT.ipynb\" target=\"_parent\"><img src=\"https://colab.research.google.com/assets/colab-badge.svg\" alt=\"Open In Colab\"/></a>"
   ]
  },
  {
   "cell_type": "markdown",
   "metadata": {
    "id": "5oNcmiuq3YKE"
   },
   "source": [
    "# Fine-tuning CuatroLLM for adaptive MT"
   ]
  },
  {
   "cell_type": "markdown",
   "metadata": {
    "id": "CpHmGFLp3cuk"
   },
   "source": [
    "# Installations"
   ]
  },
  {
   "cell_type": "code",
   "execution_count": 1,
   "metadata": {
    "colab": {
     "base_uri": "https://localhost:8080/"
    },
    "id": "xV2QtE9FsSLB",
    "outputId": "ecfde685-0f93-4695-9d54-07a481a53f90"
   },
   "outputs": [
    {
     "name": "stdout",
     "output_type": "stream",
     "text": [
      "GPU 0: NVIDIA A100-SXM4-40GB (UUID: GPU-266c6601-7b9c-de1d-cc5a-58fa2e80c2d2)\n",
      "GPU 1: NVIDIA A100-SXM4-40GB (UUID: GPU-bf2fa8dc-a4d4-d105-96bd-b5d85dcd6ceb)\n",
      "GPU 2: NVIDIA A100-SXM4-40GB (UUID: GPU-d383ddd2-e51e-7a81-e088-27de39359ce3)\n",
      "GPU 3: NVIDIA A100-SXM4-40GB (UUID: GPU-7207f21a-3f9d-bf47-9aed-653a8cf1d6dd)\n",
      "GPU 4: NVIDIA A100-SXM4-40GB (UUID: GPU-2bb4de11-4f06-690b-d7c2-d436923e0eb2)\n",
      "GPU 5: NVIDIA A100-SXM4-40GB (UUID: GPU-ca641382-344c-a857-1149-c8c02d9cce77)\n",
      "GPU 6: NVIDIA A100-SXM4-40GB (UUID: GPU-4cf45d03-96d1-57e4-f842-ebf2c5bd000f)\n",
      "GPU 7: NVIDIA A100-SXM4-40GB (UUID: GPU-790dbb1e-3bde-795d-a439-05d85c3f4bde)\n"
     ]
    }
   ],
   "source": [
    "# Check GPU\n",
    "!nvidia-smi -L"
   ]
  },
  {
   "cell_type": "code",
   "execution_count": 2,
   "metadata": {},
   "outputs": [],
   "source": [
    "import os\n",
    "\n",
    "# no nvlink\n",
    "os.environ[\"CUDA_DEVICE_ORDER\"]=\"PCI_BUS_ID\" \n",
    "# use a specific GPU\n",
    "os.environ[\"CUDA_VISIBLE_DEVICES\"]=\"3\""
   ]
  },
  {
   "cell_type": "code",
   "execution_count": 3,
   "metadata": {
    "id": "d_qLhV8jLZsH"
   },
   "outputs": [],
   "source": [
    "!pip3 install datasets transformers accelerate bitsandbytes peft trl -q"
   ]
  },
  {
   "cell_type": "markdown",
   "metadata": {
    "id": "hnh5nkfxQsyb"
   },
   "source": [
    "# Loading the data"
   ]
  },
  {
   "cell_type": "code",
   "execution_count": 5,
   "metadata": {
    "colab": {
     "base_uri": "https://localhost:8080/",
     "height": 35
    },
    "id": "7jIwEIkCQe1b",
    "outputId": "44021def-3b22-421f-d068-07595c5c06e1"
   },
   "outputs": [],
   "source": [
    "# import os\n",
    "\n",
    "# data_path = \"/content/drive/MyDrive/data/\"\n",
    "# directory = os.path.join(data_path, \"spanish\")\n",
    "\n",
    "# os.chdir(directory)\n",
    "# os.getcwd()"
   ]
  },
  {
   "cell_type": "code",
   "execution_count": 5,
   "metadata": {
    "colab": {
     "base_uri": "https://localhost:8080/"
    },
    "id": "4EznpQIHQhGo",
    "outputId": "446d7840-9e70-4a46-e374-7fba08a3c088"
   },
   "outputs": [
    {
     "name": "stdout",
     "output_type": "stream",
     "text": [
      "El consumo nocivo de alcohol es responsable por cerca de 3% de todas las muertes que ocurren en el planeta, incluyendo desde cirrosis y cáncer hepático hasta accidentes, caídas, intoxicaciones y homicidios.\n",
      "The harmful use of alcohol is responsible for about 3% of all deaths that occur on the planet, ranging from liver cancer and cirrhosis to accidents, falls, poisoning and murder.\n"
     ]
    }
   ],
   "source": [
    "# Load the training dataset\n",
    "\n",
    "source_train_file = \"/data/students/alister/Adaptive-MT-LLM-Fine-tuning/data/es-en/small-train/all-filtered.es.real.smalltrain\"\n",
    "target_train_file = \"/data/students/alister/Adaptive-MT-LLM-Fine-tuning/data/es-en/small-train/all-filtered.en.real.smalltrain\"\n",
    "\n",
    "with open(source_train_file, encoding=\"utf-8\") as source, open(target_train_file, encoding=\"utf-8\") as target:\n",
    "  source_sentences = [sent.strip() for sent in source.readlines()]\n",
    "  target_sentences = [sent.strip() for sent in target.readlines()]\n",
    "\n",
    "print(source_sentences[0])\n",
    "print(target_sentences[0])"
   ]
  },
  {
   "cell_type": "code",
   "execution_count": 6,
   "metadata": {
    "id": "Dzsxxv1tQj3b"
   },
   "outputs": [
    {
     "name": "stdout",
     "output_type": "stream",
     "text": [
      "Aceite de ricino, hidrogenado\n",
      "Amyvid contiene etanol y sodio\n",
      "Castor oil, hydrogenated\n"
     ]
    }
   ],
   "source": [
    "# Load the fuzzy matches from unique Context Dataset\n",
    "\n",
    "context_train_file = \"/data/students/alister/Adaptive-MT-LLM-Fine-tuning/data/es-en/small-train/all-filtered.esen.ms-multi-12.online.smalltrain\"\n",
    "\n",
    "with open(context_train_file, encoding=\"utf-8\") as context:\n",
    "  lines = [line.strip().split(\" ||| \") for line in context.readlines()]\n",
    "  scores = [float(line[0].strip()) for line in lines]\n",
    "  fuzzy_source_sentences = [line[1].strip() for line in lines]\n",
    "  online_source_sentences = [line[2].strip() for line in lines]\n",
    "  fuzzy_target_prefixes = [line[3].strip() for line in lines]\n",
    "\n",
    "n = 9999\n",
    "print(fuzzy_source_sentences[n])\n",
    "print(online_source_sentences[n])\n",
    "print(fuzzy_target_prefixes[n])"
   ]
  },
  {
   "cell_type": "markdown",
   "metadata": {
    "id": "DYb9dxsAQtpt"
   },
   "source": [
    "# Create the prompts"
   ]
  },
  {
   "cell_type": "code",
   "execution_count": 7,
   "metadata": {
    "id": "lhtPPU5zDFp0"
   },
   "outputs": [],
   "source": [
    "# Function to create zero-shot and one-shot prompts\n",
    "\n",
    "def create_prompt(source_lang,\n",
    "                  target_lang,\n",
    "                  fuzzy_sources,\n",
    "                  fuzzy_targets,\n",
    "                  new_sources,\n",
    "                  new_targets,\n",
    "                  one_shot=True\n",
    "                  ):\n",
    "\n",
    "  prompts = []\n",
    "\n",
    "  if one_shot:\n",
    "    for fuzzy_src, fuzzy_tgt, new_src, new_tgt in zip(fuzzy_sources, fuzzy_targets, new_sources, new_targets):\n",
    "      fuzzy_src = source_lang + \": \" + fuzzy_src\n",
    "      fuzzy_tgt = target_lang + \": \" + fuzzy_tgt\n",
    "      new_src = source_lang + \": \" + new_src\n",
    "      src_segment = fuzzy_src + \"\\n\" + fuzzy_tgt + \"\\n\" + new_src + \"\\n\" + target_lang + \":\"\n",
    "      prompt = src_segment + \" \" + new_tgt\n",
    "      # prompt_dict = {\"prompt\": src_segment,\n",
    "      #                \"response\": new_tgt,\n",
    "      #                \"source\": \"Medical\"\n",
    "      #               }\n",
    "      prompts.append(prompt)\n",
    "  else:\n",
    "    for new_src, new_tgt in zip(new_sources, new_targets):\n",
    "      new_src = source_lang + \": \" + new_src\n",
    "      src_segment = new_src + \"\\n\" + target_lang + \":\"\n",
    "      prompt = src_segment + \" \" + new_tgt\n",
    "      # prompt_dict = {\"prompt\": src_segment,\n",
    "      #                \"response\": new_tgt,\n",
    "      #                \"source\": \"Medical\"\n",
    "      #               }\n",
    "      prompts.append(prompt)\n",
    "\n",
    "  return prompts"
   ]
  },
  {
   "cell_type": "code",
   "execution_count": 8,
   "metadata": {
    "id": "l_XXEc-cQvno"
   },
   "outputs": [],
   "source": [
    "source_lang = \"Spanish\"\n",
    "target_lang = \"English\""
   ]
  },
  {
   "cell_type": "code",
   "execution_count": 9,
   "metadata": {
    "colab": {
     "base_uri": "https://localhost:8080/"
    },
    "id": "FVTTpMt8QxKX",
    "outputId": "ebfb8c9d-864d-4b1c-a074-28c91286934b"
   },
   "outputs": [
    {
     "name": "stdout",
     "output_type": "stream",
     "text": [
      "20000\n"
     ]
    }
   ],
   "source": [
    "prompts_zero_shot = create_prompt(source_lang,\n",
    "                                  target_lang,\n",
    "                                  fuzzy_source_sentences,\n",
    "                                  fuzzy_target_prefixes,\n",
    "                                  online_source_sentences,\n",
    "                                  target_sentences,\n",
    "                                  one_shot=False\n",
    "                                  )\n",
    "\n",
    "prompts_one_shot = create_prompt(source_lang,\n",
    "                        target_lang,\n",
    "                        fuzzy_source_sentences,\n",
    "                        fuzzy_target_prefixes,\n",
    "                        online_source_sentences,\n",
    "                        target_sentences,\n",
    "                        one_shot=True\n",
    "                        )\n",
    "\n",
    "\n",
    "prompts = prompts_zero_shot + prompts_one_shot\n",
    "\n",
    "print(len(prompts))"
   ]
  },
  {
   "cell_type": "code",
   "execution_count": 10,
   "metadata": {
    "colab": {
     "base_uri": "https://localhost:8080/"
    },
    "id": "HAlrExMiEDhk",
    "outputId": "ad98f424-3f77-4bbd-aa29-70156b296bdb"
   },
   "outputs": [
    {
     "name": "stdout",
     "output_type": "stream",
     "text": [
      "Spanish: El consumo nocivo de alcohol es responsable por cerca de 3% de todas las muertes que ocurren en el planeta, incluyendo desde cirrosis y cáncer hepático hasta accidentes, caídas, intoxicaciones y homicidios.\n",
      "English: The harmful use of alcohol is responsible for about 3% of all deaths that occur on the planet, ranging from liver cancer and cirrhosis to accidents, falls, poisoning and murder. \n",
      "\n",
      "Spanish: Aceite de ricino, hidrogenado\n",
      "English: Castor oil, hydrogenated\n",
      "Spanish: Amyvid contiene etanol y sodio\n",
      "English: Amyvid contains ethanol and sodium\n"
     ]
    }
   ],
   "source": [
    "print(prompts[0], \"\\n\")\n",
    "print(prompts[-1])"
   ]
  },
  {
   "cell_type": "code",
   "execution_count": 11,
   "metadata": {
    "colab": {
     "base_uri": "https://localhost:8080/"
    },
    "id": "8aqsK1HUA0L6",
    "outputId": "db573bd5-7a75-4928-8890-3868602db761"
   },
   "outputs": [
    {
     "name": "stdout",
     "output_type": "stream",
     "text": [
      "Spanish: Si toma más Harvoni del que debe\n",
      "English: If you take more Harvoni than you should\n",
      "Spanish: Si toma más Jakavi del que debe\n",
      "English: If you take more Jakavi than you should \n",
      "\n",
      "Spanish: • Administración de vacunas vivas.\n",
      "English: • Administration of live vaccine\n"
     ]
    }
   ],
   "source": [
    "# Shuffle the prompts\n",
    "import random\n",
    "random.shuffle(prompts)\n",
    "\n",
    "print(prompts[0], \"\\n\")\n",
    "print(prompts[-1])"
   ]
  },
  {
   "cell_type": "markdown",
   "metadata": {
    "id": "TCe7j5NSA_6U"
   },
   "source": [
    "# Fine-tuning with Huggingface"
   ]
  },
  {
   "cell_type": "markdown",
   "metadata": {
    "id": "KfiwvSRUBGIU"
   },
   "source": [
    "## Create the dataset"
   ]
  },
  {
   "cell_type": "code",
   "execution_count": 12,
   "metadata": {
    "id": "6C37jqgcBHi9"
   },
   "outputs": [
    {
     "name": "stderr",
     "output_type": "stream",
     "text": [
      "/data/students/alister/anaconda3/envs/nlpenv/lib/python3.11/site-packages/tqdm/auto.py:21: TqdmWarning: IProgress not found. Please update jupyter and ipywidgets. See https://ipywidgets.readthedocs.io/en/stable/user_install.html\n",
      "  from .autonotebook import tqdm as notebook_tqdm\n"
     ]
    }
   ],
   "source": [
    "from datasets import Dataset, DatasetDict\n",
    "\n",
    "dataset = DatasetDict({\n",
    "    \"train\": Dataset.from_dict({\"text\": prompts[:19000]}),\n",
    "    \"validation\": Dataset.from_dict({\"text\": prompts[19000:]})\n",
    "})"
   ]
  },
  {
   "cell_type": "code",
   "execution_count": 13,
   "metadata": {
    "colab": {
     "base_uri": "https://localhost:8080/"
    },
    "id": "gxsqkyPUwOFp",
    "outputId": "5780231a-cc79-4362-b356-6440a68e6c64"
   },
   "outputs": [
    {
     "data": {
      "text/plain": [
       "DatasetDict({\n",
       "    train: Dataset({\n",
       "        features: ['text'],\n",
       "        num_rows: 19000\n",
       "    })\n",
       "    validation: Dataset({\n",
       "        features: ['text'],\n",
       "        num_rows: 1000\n",
       "    })\n",
       "})"
      ]
     },
     "execution_count": 13,
     "metadata": {},
     "output_type": "execute_result"
    }
   ],
   "source": [
    "dataset"
   ]
  },
  {
   "cell_type": "code",
   "execution_count": 14,
   "metadata": {
    "colab": {
     "base_uri": "https://localhost:8080/"
    },
    "id": "WTZTZg2jBqPD",
    "outputId": "716a669f-fbb0-4bac-c83e-6ecf00794ad2"
   },
   "outputs": [
    {
     "name": "stdout",
     "output_type": "stream",
     "text": [
      "{'text': 'Spanish: Se ha notificado que el zumo de pomelo eleva el nivel '\n",
      "         'sanguíneo de tacrolimus, y por lo tanto debe evitarse.\\n'\n",
      "         'English: Grapefruit juice has been reported to increase the blood '\n",
      "         'level of tacrolimus and should therefore be avoided.'}\n"
     ]
    }
   ],
   "source": [
    "from pprint import pprint\n",
    "\n",
    "pprint(dataset['train'][1001])"
   ]
  },
  {
   "cell_type": "markdown",
   "metadata": {
    "id": "Do-6VvQ0PHlS"
   },
   "source": [
    "## Load the model"
   ]
  },
  {
   "cell_type": "code",
   "execution_count": 15,
   "metadata": {
    "id": "bOkhsY6h4tJq"
   },
   "outputs": [
    {
     "data": {
      "text/plain": [
       "'/raid/students/alister/NLP_Project'"
      ]
     },
     "execution_count": 15,
     "metadata": {},
     "output_type": "execute_result"
    }
   ],
   "source": [
    "import os\n",
    "# from google.colab import userdata\n",
    "\n",
    "# shared_drive = userdata.get(\"shared_drive\")\n",
    "\n",
    "# model_directory = os.path.join(shared_drive, \"models\")\n",
    "\n",
    "# os.chdir(model_directory)\n",
    "# os.getcwd()\n",
    "\n",
    "model_directory = \"/data/students/alister/NLP_Project\"\n",
    "\n",
    "os.chdir(model_directory)\n",
    "os.getcwd()"
   ]
  },
  {
   "cell_type": "code",
   "execution_count": 16,
   "metadata": {
    "colab": {
     "base_uri": "https://localhost:8080/",
     "height": 49,
     "referenced_widgets": [
      "c36b2efd2bb549bc9e3727a8687d35a2",
      "a52f501615044b1a9f94b89f96ed964f",
      "f475ea5f9e98493ea9cae89e39f8dd6f",
      "13315f84153b4a8eafc5eb475d46d3fe",
      "aeed363a15894de3812d9d133a4d4158",
      "70e072d17cd748da8310c5b1a6da40aa",
      "01f6fb6e4f7444b8a4d4b24b55480123",
      "ce043c2cfb504e75901d35744e33ef68",
      "a98f8b53db5c4ddd8681466b88a8ed75",
      "bed2b4a16bce4f76bf6011ae94f6164e",
      "5ecaa477b4e747bb93a92cd54e8eeccf"
     ]
    },
    "id": "deLyXDSTPJl5",
    "outputId": "5042e28d-6cbc-419b-e90d-7736c004f2e8"
   },
   "outputs": [],
   "source": [
    "from transformers import AutoTokenizer, AutoModelForCausalLM, AutoConfig, BitsAndBytesConfig\n",
    "import torch\n",
    "\n",
    "cache_dir = model_directory\n",
    "\n",
    "model_name = \"britllm/CuatroLLM\"\n",
    "\n",
    "nf4_config = BitsAndBytesConfig(\n",
    "                                load_in_4bit=True,\n",
    "                                bnb_4bit_quant_type=\"nf4\",\n",
    "                                bnb_4bit_use_double_quant=True,\n",
    "                                bnb_4bit_compute_dtype=torch.bfloat16\n",
    "                                )\n",
    "\n",
    "model = AutoModelForCausalLM.from_pretrained(\n",
    "                                            model_name,\n",
    "                                            device_map='auto',\n",
    "                                            quantization_config=nf4_config,\n",
    "                                            use_cache=False,\n",
    "                                            cache_dir=cache_dir\n",
    "                                            )\n",
    "\n",
    "tokenizer = AutoTokenizer.from_pretrained(model_name,\n",
    "                                          cache_dir=cache_dir,\n",
    "                                          add_bos_token = True,\n",
    "                                          add_eos_token = False  # False if trainer's dataset packing is True\n",
    "                                          )"
   ]
  },
  {
   "cell_type": "code",
   "execution_count": 17,
   "metadata": {},
   "outputs": [
    {
     "data": {
      "text/plain": [
       "(True, False)"
      ]
     },
     "execution_count": 17,
     "metadata": {},
     "output_type": "execute_result"
    }
   ],
   "source": [
    "# By default, SFTTrainer adds eos_token </s> if dataset \"packing=True\".\n",
    "# If packing is False, then \"add_eos_token\" should be set to True.\n",
    "# Check out: https://github.com/huggingface/trl/issues/1283\n",
    "\n",
    "tokenizer.add_bos_token, tokenizer.add_eos_token"
   ]
  },
  {
   "cell_type": "code",
   "execution_count": 18,
   "metadata": {
    "id": "YmFjPd2eDww2"
   },
   "outputs": [],
   "source": [
    "tokenizer.pad_token = tokenizer.eos_token\n",
    "tokenizer.padding_side = \"right\""
   ]
  },
  {
   "cell_type": "code",
   "execution_count": 19,
   "metadata": {
    "id": "ycvLUry6nklY"
   },
   "outputs": [],
   "source": [
    "from peft import AutoPeftModelForCausalLM, LoraConfig, get_peft_model, prepare_model_for_kbit_training\n",
    "\n",
    "peft_config = LoraConfig(\n",
    "                        lora_alpha=16,\n",
    "                        lora_dropout=0.1,\n",
    "                        r=64,\n",
    "                        bias=\"none\",\n",
    "                        task_type=\"CAUSAL_LM\"\n",
    "                        )"
   ]
  },
  {
   "cell_type": "code",
   "execution_count": 20,
   "metadata": {
    "id": "pJo4T2dK4T2Z"
   },
   "outputs": [],
   "source": [
    "model = prepare_model_for_kbit_training(model)\n",
    "model = get_peft_model(model, peft_config)"
   ]
  },
  {
   "cell_type": "markdown",
   "metadata": {
    "id": "-0i3rn4KKwBg"
   },
   "source": [
    "## Train the model"
   ]
  },
  {
   "cell_type": "code",
   "execution_count": 21,
   "metadata": {
    "id": "qLdUmPYkTfb3"
   },
   "outputs": [],
   "source": [
    "model.gradient_checkpointing_enable()"
   ]
  },
  {
   "cell_type": "code",
   "execution_count": 22,
   "metadata": {
    "id": "0WX2WFyT7kQ8"
   },
   "outputs": [],
   "source": [
    "output_directory = \"britllm/CuatroLLM_spanish__\""
   ]
  },
  {
   "cell_type": "code",
   "execution_count": 23,
   "metadata": {
    "id": "pqs0cMRwp1XP"
   },
   "outputs": [
    {
     "name": "stderr",
     "output_type": "stream",
     "text": [
      "/data/students/alister/anaconda3/envs/nlpenv/lib/python3.11/site-packages/transformers/training_args.py:1568: FutureWarning: `evaluation_strategy` is deprecated and will be removed in version 4.46 of 🤗 Transformers. Use `eval_strategy` instead\n",
      "  warnings.warn(\n"
     ]
    }
   ],
   "source": [
    "from transformers import TrainingArguments\n",
    "\n",
    "training_args = TrainingArguments(\n",
    "                                  output_dir = output_directory,\n",
    "                                  num_train_epochs=1,\n",
    "                                  #max_steps = 594, # comment out this line if you want to train in epochs\n",
    "                                  per_device_train_batch_size = 32,\n",
    "                                  per_device_eval_batch_size = 32,\n",
    "                                  warmup_steps = 0,\n",
    "                                  logging_steps=20,\n",
    "                                  save_strategy=\"epoch\",\n",
    "                                  evaluation_strategy=\"epoch\",\n",
    "                                  #evaluation_strategy=\"steps\",\n",
    "                                  #eval_steps=20, # comment out this line if you want to evaluate at the end of each epoch\n",
    "                                  #eval_accumulation_steps=4,\n",
    "                                  learning_rate=2e-3,  # 2e-4 # lower LE for smaller batch sizes\n",
    "                                  bf16=True,\n",
    "                                  lr_scheduler_type='constant',\n",
    "                                )"
   ]
  },
  {
   "cell_type": "code",
   "execution_count": 24,
   "metadata": {
    "id": "_9KzXdV-qf9J"
   },
   "outputs": [
    {
     "name": "stderr",
     "output_type": "stream",
     "text": [
      "/data/students/alister/anaconda3/envs/nlpenv/lib/python3.11/site-packages/huggingface_hub/utils/_deprecation.py:100: FutureWarning: Deprecated argument(s) used in '__init__': max_seq_length, packing, dataset_text_field. Will not be supported from version '0.13.0'.\n",
      "\n",
      "Deprecated positional argument(s) used in SFTTrainer, please use the SFTConfig to set these arguments instead.\n",
      "  warnings.warn(message, FutureWarning)\n",
      "/data/students/alister/anaconda3/envs/nlpenv/lib/python3.11/site-packages/transformers/training_args.py:1568: FutureWarning: `evaluation_strategy` is deprecated and will be removed in version 4.46 of 🤗 Transformers. Use `eval_strategy` instead\n",
      "  warnings.warn(\n",
      "/data/students/alister/anaconda3/envs/nlpenv/lib/python3.11/site-packages/trl/trainer/sft_trainer.py:212: UserWarning: You passed a `packing` argument to the SFTTrainer, the value you passed will override the one in the `SFTConfig`.\n",
      "  warnings.warn(\n",
      "/data/students/alister/anaconda3/envs/nlpenv/lib/python3.11/site-packages/trl/trainer/sft_trainer.py:300: UserWarning: You passed a `max_seq_length` argument to the SFTTrainer, the value you passed will override the one in the `SFTConfig`.\n",
      "  warnings.warn(\n",
      "/data/students/alister/anaconda3/envs/nlpenv/lib/python3.11/site-packages/trl/trainer/sft_trainer.py:328: UserWarning: You passed a `dataset_text_field` argument to the SFTTrainer, the value you passed will override the one in the `SFTConfig`.\n",
      "  warnings.warn(\n",
      "Generating train split: 4823 examples [00:02, 1648.03 examples/s]\n",
      "Generating train split: 251 examples [00:00, 3057.07 examples/s]\n",
      "Detected kernel version 5.4.0, which is below the recommended minimum of 5.5.0; this can cause the process to hang. It is recommended to upgrade the kernel to the minimum version or higher.\n"
     ]
    }
   ],
   "source": [
    "from trl import SFTTrainer\n",
    "\n",
    "max_seq_length = 512  # increase if needed\n",
    "\n",
    "trainer = SFTTrainer(\n",
    "                    model=model,\n",
    "                    peft_config=peft_config,\n",
    "                    max_seq_length=max_seq_length,\n",
    "                    tokenizer=tokenizer,\n",
    "                    packing=True,\n",
    "                    dataset_text_field=\"text\",\n",
    "                    args=training_args,\n",
    "                    train_dataset=dataset[\"train\"],\n",
    "                    eval_dataset=dataset[\"validation\"],\n",
    "                  )"
   ]
  },
  {
   "cell_type": "code",
   "execution_count": 25,
   "metadata": {},
   "outputs": [
    {
     "data": {
      "text/plain": [
       "'aparecer tras la reinstauración de cada tratamiento por separado (ver sección 4.5).\\nEnglish: This myelotoxicity was reversible within 4 to 6 weeks upon withdrawal of HCV antiviral therapy and concomitant azathioprine and did not recur upon reintroduction of either treatment alone (see section</s><s> Spanish: Sin embargo, en base a los resultados del estudio 1 reseñados anteriormente, se derivó una relación entre leche y plasma de 0,3 para el clorsulón.\\nEnglish: However, based on the results of study 1 reported above, a milk to plasma ratio of 0.3 was derived for the clorsulon.\\nSpanish: De los factores asociados a la hipotermia encontrados en este estudio, la variable IMC > 30 no se correlaciona con lo publicado.\\nEnglish: Among the factors associated with hypothermia found in this study, the vari-ableofaBMI> 30 did not correlate with the published data.</s><s> Spanish: Fiasp no debe utilizarse si la solución no tiene un aspecto transparente e incoloro.\\nEnglish: Fiasp must not be used if the solution does not appear clear and colourless.</s><s> Spanish: MabCampath es un anticuerpo monoclonal.\\nEnglish: MabCampath is a monoclonal antibody.</s><s> Spanish: ¿Qué beneficio ha demostrado tener Cerezyme durante los estudios?\\nEnglish: What benefit has Cerezyme shown during the studies?</s><s> Spanish: El otro, el diferente, el deficiente, representa la conciencia de la propia imperfección de aquel que lo ve, refleja sus limitaciones, sus castraciones.\\nEnglish: The other, the different and disabled one represents the awareness of the very imperfection of the one who sees and mirrors his limitations and emasculation.</s><s> Spanish: Estudio de eficacia a largo plazo para comparar la progresión de la enfermedad en niños con FQ con una mutación específica de apertura del canal de CFTR y una edad de 2 a 5 años en'"
      ]
     },
     "execution_count": 25,
     "metadata": {},
     "output_type": "execute_result"
    }
   ],
   "source": [
    "# Check out the tokenized dataset (packing=True)\n",
    "tokenizer.decode(trainer.train_dataset[\"input_ids\"][0])"
   ]
  },
  {
   "cell_type": "code",
   "execution_count": 26,
   "metadata": {
    "id": "SChbiLGuLVKy"
   },
   "outputs": [
    {
     "data": {
      "text/html": [
       "\n",
       "    <div>\n",
       "      \n",
       "      <progress value='151' max='151' style='width:300px; height:20px; vertical-align: middle;'></progress>\n",
       "      [151/151 04:02, Epoch 1/1]\n",
       "    </div>\n",
       "    <table border=\"1\" class=\"dataframe\">\n",
       "  <thead>\n",
       " <tr style=\"text-align: left;\">\n",
       "      <th>Epoch</th>\n",
       "      <th>Training Loss</th>\n",
       "      <th>Validation Loss</th>\n",
       "    </tr>\n",
       "  </thead>\n",
       "  <tbody>\n",
       "    <tr>\n",
       "      <td>1</td>\n",
       "      <td>1.562000</td>\n",
       "      <td>1.550051</td>\n",
       "    </tr>\n",
       "  </tbody>\n",
       "</table><p>"
      ],
      "text/plain": [
       "<IPython.core.display.HTML object>"
      ]
     },
     "metadata": {},
     "output_type": "display_data"
    },
    {
     "data": {
      "text/plain": [
       "TrainOutput(global_step=151, training_loss=1.6296406297494244, metrics={'train_runtime': 244.7851, 'train_samples_per_second': 19.703, 'train_steps_per_second': 0.617, 'total_flos': 1.914957042234163e+16, 'train_loss': 1.6296406297494244, 'epoch': 1.0})"
      ]
     },
     "execution_count": 26,
     "metadata": {},
     "output_type": "execute_result"
    }
   ],
   "source": [
    "# Start training\n",
    "trainer.train()"
   ]
  },
  {
   "cell_type": "code",
   "execution_count": 27,
   "metadata": {},
   "outputs": [],
   "source": [
    "# Save the log history\n",
    "import json\n",
    "import os\n",
    "\n",
    "logs =trainer.state.log_history\n",
    "logs_path = os.path.join(output_directory, \"logs.json\")\n",
    "\n",
    "with open(logs_path, \"w\") as log:\n",
    "  log.write(json.dumps(logs, indent=2))"
   ]
  },
  {
   "cell_type": "markdown",
   "metadata": {
    "id": "V-tP2mG_Hne3"
   },
   "source": [
    "# Test generation with Hugging Face"
   ]
  },
  {
   "cell_type": "code",
   "execution_count": 29,
   "metadata": {},
   "outputs": [
    {
     "name": "stdout",
     "output_type": "stream",
     "text": [
      "Peft model loaded\n"
     ]
    }
   ],
   "source": [
    "from peft import PeftModel, PeftConfig\n",
    "from transformers import AutoModelForCausalLM, AutoTokenizer\n",
    "import os\n",
    "\n",
    "\n",
    "peft_model_path = os.path.join(output_directory, \"checkpoint-151\")  # change checkpoint path\n",
    "\n",
    "peftconfig = PeftConfig.from_pretrained(peft_model_path)\n",
    "\n",
    "model_base = AutoModelForCausalLM.from_pretrained(peftconfig.base_model_name_or_path,\n",
    "                                             device_map = \"auto\",\n",
    "                                             cache_dir = cache_dir\n",
    "                                            )\n",
    "\n",
    "tokenizer = AutoTokenizer.from_pretrained(model_name,\n",
    "                                          cache_dir=cache_dir,\n",
    "                                          add_bos_token = True,\n",
    "                                          add_eos_token = False  # always False for inference\n",
    "                                          )\n",
    "\n",
    "new_model = PeftModel.from_pretrained(model_base, peft_model_path)\n",
    "\n",
    "print(\"Peft model loaded\")"
   ]
  },
  {
   "cell_type": "code",
   "execution_count": 30,
   "metadata": {
    "id": "-Q0zsDN7JF44"
   },
   "outputs": [],
   "source": [
    "def generate_response(prompt, model):\n",
    "  encoded_input = tokenizer(prompt, return_tensors=\"pt\", add_special_tokens=True)\n",
    "  model_inputs = encoded_input.to('cuda')\n",
    "\n",
    "  generated_ids = model.generate(**model_inputs,\n",
    "                                 max_new_tokens=20,\n",
    "                                 min_new_tokens=1,\n",
    "                                 do_sample=False,\n",
    "                                 pad_token_id=tokenizer.eos_token_id)\n",
    "\n",
    "  decoded_output = tokenizer.batch_decode(generated_ids)\n",
    "\n",
    "  return decoded_output[0].replace(prompt, \"\")"
   ]
  },
  {
   "cell_type": "code",
   "execution_count": 31,
   "metadata": {
    "id": "HOYtNZVYKRpp"
   },
   "outputs": [],
   "source": [
    "prompt = \"\"\"Spanish: Período de validez después de abierto el envase: 10 horas.\n",
    "English:\"\"\""
   ]
  },
  {
   "cell_type": "code",
   "execution_count": 32,
   "metadata": {
    "colab": {
     "base_uri": "https://localhost:8080/",
     "height": 35
    },
    "id": "AnsT6pJNJ8FL",
    "outputId": "55ce500a-2943-4f93-ab5d-827e0822c08c"
   },
   "outputs": [
    {
     "data": {
      "text/plain": [
       "'<s>  Shelf-life after opening the package: 10 hours.\\nSpanish: Perí'"
      ]
     },
     "execution_count": 32,
     "metadata": {},
     "output_type": "execute_result"
    }
   ],
   "source": [
    "generate_response(prompt, new_model)"
   ]
  },
  {
   "cell_type": "markdown",
   "metadata": {
    "id": "CSUjBV-VmdXs"
   },
   "source": [
    "# Convert the fine-tuned model to CTranslate2\n",
    "\n",
    "* https://github.com/ymoslem/Adaptive-MT-LLM-Fine-tuning/blob/main/Convert-Mistral-Finetuned-CTranslate2.ipynb"
   ]
  }
 ],
 "metadata": {
  "accelerator": "GPU",
  "colab": {
   "authorship_tag": "ABX9TyMfZqrsL79jWDqTy4cNbDw4",
   "gpuType": "A100",
   "include_colab_link": true,
   "machine_shape": "hm",
   "mount_file_id": "1OfmRfzm5BIujMPiNAcjN1-o41jrSVbMh",
   "provenance": []
  },
  "kernelspec": {
   "display_name": "nlpenv",
   "language": "python",
   "name": "python3"
  },
  "language_info": {
   "codemirror_mode": {
    "name": "ipython",
    "version": 3
   },
   "file_extension": ".py",
   "mimetype": "text/x-python",
   "name": "python",
   "nbconvert_exporter": "python",
   "pygments_lexer": "ipython3",
   "version": "3.11.10"
  },
  "widgets": {
   "application/vnd.jupyter.widget-state+json": {
    "01f6fb6e4f7444b8a4d4b24b55480123": {
     "model_module": "@jupyter-widgets/controls",
     "model_module_version": "1.5.0",
     "model_name": "DescriptionStyleModel",
     "state": {
      "_model_module": "@jupyter-widgets/controls",
      "_model_module_version": "1.5.0",
      "_model_name": "DescriptionStyleModel",
      "_view_count": null,
      "_view_module": "@jupyter-widgets/base",
      "_view_module_version": "1.2.0",
      "_view_name": "StyleView",
      "description_width": ""
     }
    },
    "13315f84153b4a8eafc5eb475d46d3fe": {
     "model_module": "@jupyter-widgets/controls",
     "model_module_version": "1.5.0",
     "model_name": "HTMLModel",
     "state": {
      "_dom_classes": [],
      "_model_module": "@jupyter-widgets/controls",
      "_model_module_version": "1.5.0",
      "_model_name": "HTMLModel",
      "_view_count": null,
      "_view_module": "@jupyter-widgets/controls",
      "_view_module_version": "1.5.0",
      "_view_name": "HTMLView",
      "description": "",
      "description_tooltip": null,
      "layout": "IPY_MODEL_bed2b4a16bce4f76bf6011ae94f6164e",
      "placeholder": "​",
      "style": "IPY_MODEL_5ecaa477b4e747bb93a92cd54e8eeccf",
      "value": " 2/2 [03:11&lt;00:00, 90.84s/it]"
     }
    },
    "5ecaa477b4e747bb93a92cd54e8eeccf": {
     "model_module": "@jupyter-widgets/controls",
     "model_module_version": "1.5.0",
     "model_name": "DescriptionStyleModel",
     "state": {
      "_model_module": "@jupyter-widgets/controls",
      "_model_module_version": "1.5.0",
      "_model_name": "DescriptionStyleModel",
      "_view_count": null,
      "_view_module": "@jupyter-widgets/base",
      "_view_module_version": "1.2.0",
      "_view_name": "StyleView",
      "description_width": ""
     }
    },
    "70e072d17cd748da8310c5b1a6da40aa": {
     "model_module": "@jupyter-widgets/base",
     "model_module_version": "1.2.0",
     "model_name": "LayoutModel",
     "state": {
      "_model_module": "@jupyter-widgets/base",
      "_model_module_version": "1.2.0",
      "_model_name": "LayoutModel",
      "_view_count": null,
      "_view_module": "@jupyter-widgets/base",
      "_view_module_version": "1.2.0",
      "_view_name": "LayoutView",
      "align_content": null,
      "align_items": null,
      "align_self": null,
      "border": null,
      "bottom": null,
      "display": null,
      "flex": null,
      "flex_flow": null,
      "grid_area": null,
      "grid_auto_columns": null,
      "grid_auto_flow": null,
      "grid_auto_rows": null,
      "grid_column": null,
      "grid_gap": null,
      "grid_row": null,
      "grid_template_areas": null,
      "grid_template_columns": null,
      "grid_template_rows": null,
      "height": null,
      "justify_content": null,
      "justify_items": null,
      "left": null,
      "margin": null,
      "max_height": null,
      "max_width": null,
      "min_height": null,
      "min_width": null,
      "object_fit": null,
      "object_position": null,
      "order": null,
      "overflow": null,
      "overflow_x": null,
      "overflow_y": null,
      "padding": null,
      "right": null,
      "top": null,
      "visibility": null,
      "width": null
     }
    },
    "a52f501615044b1a9f94b89f96ed964f": {
     "model_module": "@jupyter-widgets/controls",
     "model_module_version": "1.5.0",
     "model_name": "HTMLModel",
     "state": {
      "_dom_classes": [],
      "_model_module": "@jupyter-widgets/controls",
      "_model_module_version": "1.5.0",
      "_model_name": "HTMLModel",
      "_view_count": null,
      "_view_module": "@jupyter-widgets/controls",
      "_view_module_version": "1.5.0",
      "_view_name": "HTMLView",
      "description": "",
      "description_tooltip": null,
      "layout": "IPY_MODEL_70e072d17cd748da8310c5b1a6da40aa",
      "placeholder": "​",
      "style": "IPY_MODEL_01f6fb6e4f7444b8a4d4b24b55480123",
      "value": "Loading checkpoint shards: 100%"
     }
    },
    "a98f8b53db5c4ddd8681466b88a8ed75": {
     "model_module": "@jupyter-widgets/controls",
     "model_module_version": "1.5.0",
     "model_name": "ProgressStyleModel",
     "state": {
      "_model_module": "@jupyter-widgets/controls",
      "_model_module_version": "1.5.0",
      "_model_name": "ProgressStyleModel",
      "_view_count": null,
      "_view_module": "@jupyter-widgets/base",
      "_view_module_version": "1.2.0",
      "_view_name": "StyleView",
      "bar_color": null,
      "description_width": ""
     }
    },
    "aeed363a15894de3812d9d133a4d4158": {
     "model_module": "@jupyter-widgets/base",
     "model_module_version": "1.2.0",
     "model_name": "LayoutModel",
     "state": {
      "_model_module": "@jupyter-widgets/base",
      "_model_module_version": "1.2.0",
      "_model_name": "LayoutModel",
      "_view_count": null,
      "_view_module": "@jupyter-widgets/base",
      "_view_module_version": "1.2.0",
      "_view_name": "LayoutView",
      "align_content": null,
      "align_items": null,
      "align_self": null,
      "border": null,
      "bottom": null,
      "display": null,
      "flex": null,
      "flex_flow": null,
      "grid_area": null,
      "grid_auto_columns": null,
      "grid_auto_flow": null,
      "grid_auto_rows": null,
      "grid_column": null,
      "grid_gap": null,
      "grid_row": null,
      "grid_template_areas": null,
      "grid_template_columns": null,
      "grid_template_rows": null,
      "height": null,
      "justify_content": null,
      "justify_items": null,
      "left": null,
      "margin": null,
      "max_height": null,
      "max_width": null,
      "min_height": null,
      "min_width": null,
      "object_fit": null,
      "object_position": null,
      "order": null,
      "overflow": null,
      "overflow_x": null,
      "overflow_y": null,
      "padding": null,
      "right": null,
      "top": null,
      "visibility": null,
      "width": null
     }
    },
    "bed2b4a16bce4f76bf6011ae94f6164e": {
     "model_module": "@jupyter-widgets/base",
     "model_module_version": "1.2.0",
     "model_name": "LayoutModel",
     "state": {
      "_model_module": "@jupyter-widgets/base",
      "_model_module_version": "1.2.0",
      "_model_name": "LayoutModel",
      "_view_count": null,
      "_view_module": "@jupyter-widgets/base",
      "_view_module_version": "1.2.0",
      "_view_name": "LayoutView",
      "align_content": null,
      "align_items": null,
      "align_self": null,
      "border": null,
      "bottom": null,
      "display": null,
      "flex": null,
      "flex_flow": null,
      "grid_area": null,
      "grid_auto_columns": null,
      "grid_auto_flow": null,
      "grid_auto_rows": null,
      "grid_column": null,
      "grid_gap": null,
      "grid_row": null,
      "grid_template_areas": null,
      "grid_template_columns": null,
      "grid_template_rows": null,
      "height": null,
      "justify_content": null,
      "justify_items": null,
      "left": null,
      "margin": null,
      "max_height": null,
      "max_width": null,
      "min_height": null,
      "min_width": null,
      "object_fit": null,
      "object_position": null,
      "order": null,
      "overflow": null,
      "overflow_x": null,
      "overflow_y": null,
      "padding": null,
      "right": null,
      "top": null,
      "visibility": null,
      "width": null
     }
    },
    "c36b2efd2bb549bc9e3727a8687d35a2": {
     "model_module": "@jupyter-widgets/controls",
     "model_module_version": "1.5.0",
     "model_name": "HBoxModel",
     "state": {
      "_dom_classes": [],
      "_model_module": "@jupyter-widgets/controls",
      "_model_module_version": "1.5.0",
      "_model_name": "HBoxModel",
      "_view_count": null,
      "_view_module": "@jupyter-widgets/controls",
      "_view_module_version": "1.5.0",
      "_view_name": "HBoxView",
      "box_style": "",
      "children": [
       "IPY_MODEL_a52f501615044b1a9f94b89f96ed964f",
       "IPY_MODEL_f475ea5f9e98493ea9cae89e39f8dd6f",
       "IPY_MODEL_13315f84153b4a8eafc5eb475d46d3fe"
      ],
      "layout": "IPY_MODEL_aeed363a15894de3812d9d133a4d4158"
     }
    },
    "ce043c2cfb504e75901d35744e33ef68": {
     "model_module": "@jupyter-widgets/base",
     "model_module_version": "1.2.0",
     "model_name": "LayoutModel",
     "state": {
      "_model_module": "@jupyter-widgets/base",
      "_model_module_version": "1.2.0",
      "_model_name": "LayoutModel",
      "_view_count": null,
      "_view_module": "@jupyter-widgets/base",
      "_view_module_version": "1.2.0",
      "_view_name": "LayoutView",
      "align_content": null,
      "align_items": null,
      "align_self": null,
      "border": null,
      "bottom": null,
      "display": null,
      "flex": null,
      "flex_flow": null,
      "grid_area": null,
      "grid_auto_columns": null,
      "grid_auto_flow": null,
      "grid_auto_rows": null,
      "grid_column": null,
      "grid_gap": null,
      "grid_row": null,
      "grid_template_areas": null,
      "grid_template_columns": null,
      "grid_template_rows": null,
      "height": null,
      "justify_content": null,
      "justify_items": null,
      "left": null,
      "margin": null,
      "max_height": null,
      "max_width": null,
      "min_height": null,
      "min_width": null,
      "object_fit": null,
      "object_position": null,
      "order": null,
      "overflow": null,
      "overflow_x": null,
      "overflow_y": null,
      "padding": null,
      "right": null,
      "top": null,
      "visibility": null,
      "width": null
     }
    },
    "f475ea5f9e98493ea9cae89e39f8dd6f": {
     "model_module": "@jupyter-widgets/controls",
     "model_module_version": "1.5.0",
     "model_name": "FloatProgressModel",
     "state": {
      "_dom_classes": [],
      "_model_module": "@jupyter-widgets/controls",
      "_model_module_version": "1.5.0",
      "_model_name": "FloatProgressModel",
      "_view_count": null,
      "_view_module": "@jupyter-widgets/controls",
      "_view_module_version": "1.5.0",
      "_view_name": "ProgressView",
      "bar_style": "success",
      "description": "",
      "description_tooltip": null,
      "layout": "IPY_MODEL_ce043c2cfb504e75901d35744e33ef68",
      "max": 2,
      "min": 0,
      "orientation": "horizontal",
      "style": "IPY_MODEL_a98f8b53db5c4ddd8681466b88a8ed75",
      "value": 2
     }
    }
   }
  }
 },
 "nbformat": 4,
 "nbformat_minor": 0
}
