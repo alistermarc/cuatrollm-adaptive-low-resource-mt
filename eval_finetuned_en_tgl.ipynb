{
 "cells": [
  {
   "cell_type": "code",
   "execution_count": 56,
   "metadata": {},
   "outputs": [],
   "source": [
    "from transformers import AutoTokenizer, AutoModelForCausalLM\n",
    "\n",
    "tokenizer = AutoTokenizer.from_pretrained(\"models/cuatro_begin\")\n",
    "\n",
    "model = AutoModelForCausalLM.from_pretrained(\"models/cuatro_begin\")\n",
    "model.to(\"cuda\")\n",
    "\n",
    "tokenizer.pad_token = tokenizer.eos_token"
   ]
  },
  {
   "cell_type": "code",
   "execution_count": 2,
   "metadata": {},
   "outputs": [
    {
     "name": "stdout",
     "output_type": "stream",
     "text": [
      "May tiwala ako sa iyo. Alam mo, inosente ka.\n",
      "I trust you, you know what, and you're innocent.\n"
     ]
    }
   ],
   "source": [
    "import pandas as pd\n",
    "\n",
    "df = pd.read_csv('opus_eng_to_tgl.csv')\n",
    "val = df[df['Split'] == 'test']\n",
    "source = list(val['Filipino'])\n",
    "target = list(val['English'])\n",
    "\n",
    "source_sentences = [sent.strip() for sent in source]\n",
    "target_sentences = [sent.strip() for sent in target]\n",
    "\n",
    "print(source_sentences[0])\n",
    "print(target_sentences[0])"
   ]
  },
  {
   "cell_type": "markdown",
   "metadata": {},
   "source": [
    "# Translation Predictions"
   ]
  },
  {
   "cell_type": "code",
   "execution_count": 3,
   "metadata": {},
   "outputs": [],
   "source": [
    "def create_prompt(source_lang,\n",
    "                  target_lang,\n",
    "                  fuzzy_sources,\n",
    "                  fuzzy_targets,\n",
    "                  new_sources,\n",
    "                  one_shot=True\n",
    "                  ):\n",
    "\n",
    "  prompts = []\n",
    "\n",
    "  if one_shot:\n",
    "    for fuzzy_src, fuzzy_tgt, new_src in zip(fuzzy_sources, fuzzy_targets, new_sources):\n",
    "      fuzzy_src = source_lang + \": \" + fuzzy_src\n",
    "      fuzzy_tgt = target_lang + \": \" + fuzzy_tgt\n",
    "      new_src = source_lang + \": \" + new_src\n",
    "      segment = fuzzy_src + \"\\n\" + fuzzy_tgt + \"\\n\" + new_src + \"\\n\" + target_lang + \":\"\n",
    "      prompts.append(segment)\n",
    "  else:\n",
    "    for new_src in new_sources:\n",
    "      new_src = source_lang + \": \" + new_src\n",
    "      segment = new_src + \"\\n\" + target_lang + \":\"\n",
    "      prompts.append(segment)\n",
    "\n",
    "  return prompts"
   ]
  },
  {
   "cell_type": "code",
   "execution_count": 8,
   "metadata": {},
   "outputs": [],
   "source": [
    "import random\n",
    "\n",
    "\n",
    "shots = df[df['Split'] == 'shots']\n",
    "shots_source = list(val['Filipino'])\n",
    "shots_target = list(val['English'])\n",
    "\n",
    "fuzzy_shots = []\n",
    "\n",
    "for sent in source_sentences:\n",
    "    idx = random.randint(0, len(shots_source) - 1)\n",
    "    fuzzy_shots.append([shots_source[idx], shots_target[idx]])\n",
    "\n",
    "fuzzy_source_sentences, fuzzy_target_prefixes = list(zip(*fuzzy_shots))\n",
    "online_source_sentences = source_sentences"
   ]
  },
  {
   "cell_type": "code",
   "execution_count": null,
   "metadata": {},
   "outputs": [],
   "source": [
    "source_lang = \"Filipino\"\n",
    "target_lang = \"English\"\n",
    "\n",
    "# Create prompts\n",
    "# Set one_shot=True to create a one-shot prompts\n",
    "\n",
    "zero_shot_prompts = create_prompt(source_lang,\n",
    "                        target_lang,\n",
    "                        fuzzy_source_sentences,\n",
    "                        fuzzy_target_prefixes,\n",
    "                        online_source_sentences,\n",
    "                        one_shot=False\n",
    "                        )\n",
    "one_shot_prompts = create_prompt(source_lang,\n",
    "                        target_lang,\n",
    "                        fuzzy_source_sentences,\n",
    "                        fuzzy_target_prefixes,\n",
    "                        online_source_sentences,\n",
    "                        one_shot=True\n",
    "                        )"
   ]
  },
  {
   "cell_type": "code",
   "execution_count": 61,
   "metadata": {},
   "outputs": [
    {
     "name": "stderr",
     "output_type": "stream",
     "text": [
      "Setting `pad_token_id` to `eos_token_id`:2 for open-end generation.\n"
     ]
    },
    {
     "name": "stdout",
     "output_type": "stream",
     "text": [
      "Filipino: SH:\n",
      "\n",
      "English: SH:\n",
      "\n",
      "Filipino: Ano ba ginagawa mo?\n",
      "English: What is the name of the river?\n",
      "\n",
      "Filipino: Ano ba ginag\n"
     ]
    }
   ],
   "source": [
    "# print(one_shot_prompts[0])\n",
    "model_inputs = tokenizer(one_shot_prompts[122], return_tensors='pt').to(\"cuda\")\n",
    "generated_ids = model.generate(**model_inputs)\n",
    "print(tokenizer.batch_decode(generated_ids, skip_special_tokens=True)[0])"
   ]
  }
 ],
 "metadata": {
  "kernelspec": {
   "display_name": "ai351",
   "language": "python",
   "name": "python3"
  },
  "language_info": {
   "codemirror_mode": {
    "name": "ipython",
    "version": 3
   },
   "file_extension": ".py",
   "mimetype": "text/x-python",
   "name": "python",
   "nbconvert_exporter": "python",
   "pygments_lexer": "ipython3",
   "version": "3.10.16"
  }
 },
 "nbformat": 4,
 "nbformat_minor": 2
}
