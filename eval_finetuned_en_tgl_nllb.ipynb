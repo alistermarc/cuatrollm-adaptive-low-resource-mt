{
 "cells": [
  {
   "cell_type": "code",
   "execution_count": 1,
   "metadata": {},
   "outputs": [
    {
     "name": "stdout",
     "output_type": "stream",
     "text": [
      "Requirement already satisfied: transformers in /raid/students/juan/anaconda3/envs/ai351/lib/python3.10/site-packages (4.47.1)\n",
      "Requirement already satisfied: filelock in /raid/students/juan/anaconda3/envs/ai351/lib/python3.10/site-packages (from transformers) (3.16.1)\n",
      "Requirement already satisfied: huggingface-hub<1.0,>=0.24.0 in /raid/students/juan/anaconda3/envs/ai351/lib/python3.10/site-packages (from transformers) (0.27.0)\n",
      "Requirement already satisfied: numpy>=1.17 in /raid/students/juan/anaconda3/envs/ai351/lib/python3.10/site-packages (from transformers) (2.0.2)\n",
      "Requirement already satisfied: packaging>=20.0 in /raid/students/juan/anaconda3/envs/ai351/lib/python3.10/site-packages (from transformers) (24.2)\n",
      "Requirement already satisfied: pyyaml>=5.1 in /raid/students/juan/anaconda3/envs/ai351/lib/python3.10/site-packages (from transformers) (6.0.2)\n",
      "Requirement already satisfied: regex!=2019.12.17 in /raid/students/juan/anaconda3/envs/ai351/lib/python3.10/site-packages (from transformers) (2024.11.6)\n",
      "Requirement already satisfied: requests in /raid/students/juan/anaconda3/envs/ai351/lib/python3.10/site-packages (from transformers) (2.32.3)\n",
      "Requirement already satisfied: tokenizers<0.22,>=0.21 in /raid/students/juan/anaconda3/envs/ai351/lib/python3.10/site-packages (from transformers) (0.21.0)\n",
      "Requirement already satisfied: safetensors>=0.4.1 in /raid/students/juan/anaconda3/envs/ai351/lib/python3.10/site-packages (from transformers) (0.4.5)\n",
      "Requirement already satisfied: tqdm>=4.27 in /raid/students/juan/anaconda3/envs/ai351/lib/python3.10/site-packages (from transformers) (4.67.1)\n",
      "Requirement already satisfied: fsspec>=2023.5.0 in /raid/students/juan/anaconda3/envs/ai351/lib/python3.10/site-packages (from huggingface-hub<1.0,>=0.24.0->transformers) (2024.9.0)\n",
      "Requirement already satisfied: typing-extensions>=3.7.4.3 in /raid/students/juan/anaconda3/envs/ai351/lib/python3.10/site-packages (from huggingface-hub<1.0,>=0.24.0->transformers) (4.12.2)\n",
      "Requirement already satisfied: charset-normalizer<4,>=2 in /raid/students/juan/anaconda3/envs/ai351/lib/python3.10/site-packages (from requests->transformers) (3.4.0)\n",
      "Requirement already satisfied: idna<4,>=2.5 in /raid/students/juan/anaconda3/envs/ai351/lib/python3.10/site-packages (from requests->transformers) (3.10)\n",
      "Requirement already satisfied: urllib3<3,>=1.21.1 in /raid/students/juan/anaconda3/envs/ai351/lib/python3.10/site-packages (from requests->transformers) (2.2.3)\n",
      "Requirement already satisfied: certifi>=2017.4.17 in /raid/students/juan/anaconda3/envs/ai351/lib/python3.10/site-packages (from requests->transformers) (2024.12.14)\n"
     ]
    }
   ],
   "source": [
    "!pip install transformers"
   ]
  },
  {
   "cell_type": "code",
   "execution_count": 2,
   "metadata": {},
   "outputs": [
    {
     "name": "stderr",
     "output_type": "stream",
     "text": [
      "Loading checkpoint shards: 100%|██████████| 2/2 [00:00<00:00,  4.59it/s]\n"
     ]
    }
   ],
   "source": [
    "# Load model directly\n",
    "from transformers import AutoTokenizer, AutoModelForSeq2SeqLM\n",
    "# from AutoModelForSeq2SeqLM\n",
    "\n",
    "tokenizer = AutoTokenizer.from_pretrained(\"facebook/nllb-200-1.3B\")\n",
    "\n",
    "model = AutoModelForSeq2SeqLM.from_pretrained(\"results/checkpoint-504\")\n",
    "model.to(\"cuda\")\n",
    "\n",
    "tokenizer.pad_token = tokenizer.eos_token"
   ]
  },
  {
   "cell_type": "code",
   "execution_count": 3,
   "metadata": {},
   "outputs": [
    {
     "name": "stdout",
     "output_type": "stream",
     "text": [
      "May tiwala ako sa iyo. Alam mo, inosente ka.\n",
      "I trust you, you know what, and you're innocent.\n"
     ]
    }
   ],
   "source": [
    "import pandas as pd\n",
    "\n",
    "df = pd.read_csv('opus_eng_to_tgl.csv')\n",
    "val = df[df['Split'] == 'test']\n",
    "source = list(val['Filipino'])\n",
    "target = list(val['English'])\n",
    "\n",
    "source_sentences = [sent.strip() for sent in source]\n",
    "target_sentences = [sent.strip() for sent in target]\n",
    "\n",
    "print(source_sentences[0])\n",
    "print(target_sentences[0])"
   ]
  },
  {
   "cell_type": "markdown",
   "metadata": {},
   "source": [
    "# Translation Predictions"
   ]
  },
  {
   "cell_type": "code",
   "execution_count": 4,
   "metadata": {},
   "outputs": [],
   "source": [
    "def create_prompt(source_lang,\n",
    "                  target_lang,\n",
    "                  fuzzy_sources,\n",
    "                  fuzzy_targets,\n",
    "                  new_sources,\n",
    "                  one_shot=True\n",
    "                  ):\n",
    "\n",
    "  prompts = []\n",
    "\n",
    "  if one_shot:\n",
    "    for fuzzy_src, fuzzy_tgt, new_src in zip(fuzzy_sources, fuzzy_targets, new_sources):\n",
    "      fuzzy_src = source_lang + \": \" + fuzzy_src\n",
    "      fuzzy_tgt = target_lang + \": \" + fuzzy_tgt\n",
    "      new_src = source_lang + \": \" + new_src\n",
    "      segment = fuzzy_src + \"\\n\" + fuzzy_tgt + \"\\n\" + new_src + \"\\n\" + target_lang + \":\"\n",
    "      prompts.append(segment)\n",
    "  else:\n",
    "    for new_src in new_sources:\n",
    "      new_src = source_lang + \": \" + new_src\n",
    "      segment = new_src + \"\\n\" + target_lang + \":\"\n",
    "      prompts.append(segment)\n",
    "\n",
    "  return prompts"
   ]
  },
  {
   "cell_type": "code",
   "execution_count": 5,
   "metadata": {},
   "outputs": [],
   "source": [
    "import random\n",
    "\n",
    "\n",
    "shots = df[df['Split'] == 'shots']\n",
    "shots_source = list(val['Filipino'])\n",
    "shots_target = list(val['English'])\n",
    "\n",
    "fuzzy_shots = []\n",
    "\n",
    "for sent in source_sentences:\n",
    "    idx = random.randint(0, len(shots_source) - 1)\n",
    "    fuzzy_shots.append([shots_source[idx], shots_target[idx]])\n",
    "\n",
    "fuzzy_source_sentences, fuzzy_target_prefixes = list(zip(*fuzzy_shots))\n",
    "online_source_sentences = source_sentences"
   ]
  },
  {
   "cell_type": "code",
   "execution_count": 6,
   "metadata": {},
   "outputs": [],
   "source": [
    "source_lang = \"Filipino\"\n",
    "target_lang = \"English\"\n",
    "\n",
    "# Create prompts\n",
    "# Set one_shot=True to create a one-shot prompts\n",
    "\n",
    "zero_shot_prompts = create_prompt(source_lang,\n",
    "                        target_lang,\n",
    "                        fuzzy_source_sentences,\n",
    "                        fuzzy_target_prefixes,\n",
    "                        online_source_sentences,\n",
    "                        one_shot=False\n",
    "                        )\n",
    "one_shot_prompts = create_prompt(source_lang,\n",
    "                        target_lang,\n",
    "                        fuzzy_source_sentences,\n",
    "                        fuzzy_target_prefixes,\n",
    "                        online_source_sentences,\n",
    "                        one_shot=True\n",
    "                        )"
   ]
  },
  {
   "cell_type": "code",
   "execution_count": 22,
   "metadata": {},
   "outputs": [
    {
     "name": "stdout",
     "output_type": "stream",
     "text": [
      "Filipino: At hindi ako makapaghintay upang hilahin ang iyong damit off at makakuha ka bumalik sa kama.\n"
     ]
    }
   ],
   "source": [
    "model_inputs = tokenizer(\"English: And I can't wait to tear your clothes off and get you back to bed.\", return_tensors='pt').to(\"cuda\")\n",
    "generated_ids = model.generate(**model_inputs)\n",
    "print(tokenizer.batch_decode(generated_ids, skip_special_tokens=True)[0])"
   ]
  }
 ],
 "metadata": {
  "kernelspec": {
   "display_name": "ai351",
   "language": "python",
   "name": "python3"
  },
  "language_info": {
   "codemirror_mode": {
    "name": "ipython",
    "version": 3
   },
   "file_extension": ".py",
   "mimetype": "text/x-python",
   "name": "python",
   "nbconvert_exporter": "python",
   "pygments_lexer": "ipython3",
   "version": "3.10.16"
  }
 },
 "nbformat": 4,
 "nbformat_minor": 2
}
